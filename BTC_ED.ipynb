{
 "cells": [
  {
   "cell_type": "code",
   "execution_count": 1,
   "id": "1cb9325c",
   "metadata": {},
   "outputs": [],
   "source": [
    "import numpy as np\n",
    "import pandas as pd\n",
    "import matplotlib.pyplot as plt\n",
    "import seaborn as sns\n",
    "%matplotlib inline\n",
    "import datetime\n",
    "import math\n",
    "import warnings\n",
    "warnings.filterwarnings('ignore')\n",
    "sns.set_style('darkgrid')\n",
    "plt.style.use('ggplot')\n",
    "sns.set_context(context='notebook')\n",
    "pd.set_option('display.max_columns', None)\n",
    "pd.set_option('display.max_rows', None)"
   ]
  },
  {
   "cell_type": "code",
   "execution_count": 2,
   "id": "4e44ddc7",
   "metadata": {},
   "outputs": [],
   "source": [
    "btc = pd.read_csv('BTC_pro.csv',index_col=0)"
   ]
  },
  {
   "cell_type": "code",
   "execution_count": 3,
   "id": "521b8e63",
   "metadata": {},
   "outputs": [
    {
     "data": {
      "text/html": [
       "<div>\n",
       "<style scoped>\n",
       "    .dataframe tbody tr th:only-of-type {\n",
       "        vertical-align: middle;\n",
       "    }\n",
       "\n",
       "    .dataframe tbody tr th {\n",
       "        vertical-align: top;\n",
       "    }\n",
       "\n",
       "    .dataframe thead th {\n",
       "        text-align: right;\n",
       "    }\n",
       "</style>\n",
       "<table border=\"1\" class=\"dataframe\">\n",
       "  <thead>\n",
       "    <tr style=\"text-align: right;\">\n",
       "      <th></th>\n",
       "      <th>Open</th>\n",
       "      <th>High</th>\n",
       "      <th>Low</th>\n",
       "      <th>Close</th>\n",
       "      <th>Volume</th>\n",
       "      <th>Market Cap</th>\n",
       "      <th>Return</th>\n",
       "      <th>Trend</th>\n",
       "      <th>Cum_Return</th>\n",
       "    </tr>\n",
       "    <tr>\n",
       "      <th>Date</th>\n",
       "      <th></th>\n",
       "      <th></th>\n",
       "      <th></th>\n",
       "      <th></th>\n",
       "      <th></th>\n",
       "      <th></th>\n",
       "      <th></th>\n",
       "      <th></th>\n",
       "      <th></th>\n",
       "    </tr>\n",
       "  </thead>\n",
       "  <tbody>\n",
       "    <tr>\n",
       "      <th>2013-04-29</th>\n",
       "      <td>134.44</td>\n",
       "      <td>147.49</td>\n",
       "      <td>134.00</td>\n",
       "      <td>144.54</td>\n",
       "      <td>0</td>\n",
       "      <td>1603768865</td>\n",
       "      <td>0.076969</td>\n",
       "      <td>1</td>\n",
       "      <td>0.076969</td>\n",
       "    </tr>\n",
       "    <tr>\n",
       "      <th>2013-04-30</th>\n",
       "      <td>144.00</td>\n",
       "      <td>146.93</td>\n",
       "      <td>134.05</td>\n",
       "      <td>139.00</td>\n",
       "      <td>0</td>\n",
       "      <td>1542813125</td>\n",
       "      <td>-0.038328</td>\n",
       "      <td>0</td>\n",
       "      <td>0.035690</td>\n",
       "    </tr>\n",
       "    <tr>\n",
       "      <th>2013-05-01</th>\n",
       "      <td>139.00</td>\n",
       "      <td>139.89</td>\n",
       "      <td>107.72</td>\n",
       "      <td>116.99</td>\n",
       "      <td>0</td>\n",
       "      <td>1298954594</td>\n",
       "      <td>-0.158345</td>\n",
       "      <td>0</td>\n",
       "      <td>-0.128306</td>\n",
       "    </tr>\n",
       "    <tr>\n",
       "      <th>2013-05-02</th>\n",
       "      <td>116.38</td>\n",
       "      <td>125.60</td>\n",
       "      <td>92.28</td>\n",
       "      <td>105.21</td>\n",
       "      <td>0</td>\n",
       "      <td>1168517495</td>\n",
       "      <td>-0.100692</td>\n",
       "      <td>0</td>\n",
       "      <td>-0.216079</td>\n",
       "    </tr>\n",
       "    <tr>\n",
       "      <th>2013-05-03</th>\n",
       "      <td>106.25</td>\n",
       "      <td>108.13</td>\n",
       "      <td>79.10</td>\n",
       "      <td>97.75</td>\n",
       "      <td>0</td>\n",
       "      <td>1085995169</td>\n",
       "      <td>-0.070906</td>\n",
       "      <td>0</td>\n",
       "      <td>-0.271664</td>\n",
       "    </tr>\n",
       "  </tbody>\n",
       "</table>\n",
       "</div>"
      ],
      "text/plain": [
       "              Open    High     Low   Close  Volume  Market Cap    Return  \\\n",
       "Date                                                                       \n",
       "2013-04-29  134.44  147.49  134.00  144.54       0  1603768865  0.076969   \n",
       "2013-04-30  144.00  146.93  134.05  139.00       0  1542813125 -0.038328   \n",
       "2013-05-01  139.00  139.89  107.72  116.99       0  1298954594 -0.158345   \n",
       "2013-05-02  116.38  125.60   92.28  105.21       0  1168517495 -0.100692   \n",
       "2013-05-03  106.25  108.13   79.10   97.75       0  1085995169 -0.070906   \n",
       "\n",
       "            Trend  Cum_Return  \n",
       "Date                           \n",
       "2013-04-29      1    0.076969  \n",
       "2013-04-30      0    0.035690  \n",
       "2013-05-01      0   -0.128306  \n",
       "2013-05-02      0   -0.216079  \n",
       "2013-05-03      0   -0.271664  "
      ]
     },
     "execution_count": 3,
     "metadata": {},
     "output_type": "execute_result"
    }
   ],
   "source": [
    "btc.head()"
   ]
  },
  {
   "cell_type": "code",
   "execution_count": 4,
   "id": "e05778c4",
   "metadata": {},
   "outputs": [
    {
     "data": {
      "text/html": [
       "<div>\n",
       "<style scoped>\n",
       "    .dataframe tbody tr th:only-of-type {\n",
       "        vertical-align: middle;\n",
       "    }\n",
       "\n",
       "    .dataframe tbody tr th {\n",
       "        vertical-align: top;\n",
       "    }\n",
       "\n",
       "    .dataframe thead th {\n",
       "        text-align: right;\n",
       "    }\n",
       "</style>\n",
       "<table border=\"1\" class=\"dataframe\">\n",
       "  <thead>\n",
       "    <tr style=\"text-align: right;\">\n",
       "      <th></th>\n",
       "      <th>Open</th>\n",
       "      <th>High</th>\n",
       "      <th>Low</th>\n",
       "      <th>Close</th>\n",
       "      <th>Volume</th>\n",
       "      <th>Market Cap</th>\n",
       "      <th>Return</th>\n",
       "      <th>Trend</th>\n",
       "      <th>Cum_Return</th>\n",
       "    </tr>\n",
       "    <tr>\n",
       "      <th>Date</th>\n",
       "      <th></th>\n",
       "      <th></th>\n",
       "      <th></th>\n",
       "      <th></th>\n",
       "      <th></th>\n",
       "      <th></th>\n",
       "      <th></th>\n",
       "      <th></th>\n",
       "      <th></th>\n",
       "    </tr>\n",
       "  </thead>\n",
       "  <tbody>\n",
       "    <tr>\n",
       "      <th>2021-08-11</th>\n",
       "      <td>45599.70</td>\n",
       "      <td>46735.63</td>\n",
       "      <td>45351.71</td>\n",
       "      <td>45593.64</td>\n",
       "      <td>34319709073</td>\n",
       "      <td>856398622622</td>\n",
       "      <td>0.000189</td>\n",
       "      <td>1</td>\n",
       "      <td>338.718650</td>\n",
       "    </tr>\n",
       "    <tr>\n",
       "      <th>2021-08-12</th>\n",
       "      <td>45576.88</td>\n",
       "      <td>46228.91</td>\n",
       "      <td>43861.45</td>\n",
       "      <td>44428.29</td>\n",
       "      <td>33723620826</td>\n",
       "      <td>834546790666</td>\n",
       "      <td>-0.025559</td>\n",
       "      <td>0</td>\n",
       "      <td>330.035616</td>\n",
       "    </tr>\n",
       "    <tr>\n",
       "      <th>2021-08-13</th>\n",
       "      <td>44439.69</td>\n",
       "      <td>47831.98</td>\n",
       "      <td>44282.42</td>\n",
       "      <td>47793.32</td>\n",
       "      <td>31744259539</td>\n",
       "      <td>897802604441</td>\n",
       "      <td>0.075741</td>\n",
       "      <td>1</td>\n",
       "      <td>355.108487</td>\n",
       "    </tr>\n",
       "    <tr>\n",
       "      <th>2021-08-14</th>\n",
       "      <td>47810.69</td>\n",
       "      <td>48098.68</td>\n",
       "      <td>46177.63</td>\n",
       "      <td>47096.95</td>\n",
       "      <td>31211354442</td>\n",
       "      <td>884769956069</td>\n",
       "      <td>-0.014570</td>\n",
       "      <td>0</td>\n",
       "      <td>349.919827</td>\n",
       "    </tr>\n",
       "    <tr>\n",
       "      <th>2021-08-15</th>\n",
       "      <td>47096.67</td>\n",
       "      <td>47357.11</td>\n",
       "      <td>45579.59</td>\n",
       "      <td>47047.00</td>\n",
       "      <td>30988958446</td>\n",
       "      <td>883882942188</td>\n",
       "      <td>-0.001061</td>\n",
       "      <td>0</td>\n",
       "      <td>349.547649</td>\n",
       "    </tr>\n",
       "  </tbody>\n",
       "</table>\n",
       "</div>"
      ],
      "text/plain": [
       "                Open      High       Low     Close       Volume    Market Cap  \\\n",
       "Date                                                                            \n",
       "2021-08-11  45599.70  46735.63  45351.71  45593.64  34319709073  856398622622   \n",
       "2021-08-12  45576.88  46228.91  43861.45  44428.29  33723620826  834546790666   \n",
       "2021-08-13  44439.69  47831.98  44282.42  47793.32  31744259539  897802604441   \n",
       "2021-08-14  47810.69  48098.68  46177.63  47096.95  31211354442  884769956069   \n",
       "2021-08-15  47096.67  47357.11  45579.59  47047.00  30988958446  883882942188   \n",
       "\n",
       "              Return  Trend  Cum_Return  \n",
       "Date                                     \n",
       "2021-08-11  0.000189      1  338.718650  \n",
       "2021-08-12 -0.025559      0  330.035616  \n",
       "2021-08-13  0.075741      1  355.108487  \n",
       "2021-08-14 -0.014570      0  349.919827  \n",
       "2021-08-15 -0.001061      0  349.547649  "
      ]
     },
     "execution_count": 4,
     "metadata": {},
     "output_type": "execute_result"
    }
   ],
   "source": [
    "btc.tail()"
   ]
  },
  {
   "cell_type": "code",
   "execution_count": 5,
   "id": "e1511c87",
   "metadata": {},
   "outputs": [],
   "source": [
    "#Cum_return = (1 + btc['Return']).cumprod() - 1"
   ]
  },
  {
   "cell_type": "code",
   "execution_count": 6,
   "id": "a803066b",
   "metadata": {},
   "outputs": [],
   "source": [
    "#btc['Cum_Return'] = Cum_return"
   ]
  },
  {
   "cell_type": "code",
   "execution_count": 7,
   "id": "0118b9b1",
   "metadata": {},
   "outputs": [
    {
     "data": {
      "text/html": [
       "<div>\n",
       "<style scoped>\n",
       "    .dataframe tbody tr th:only-of-type {\n",
       "        vertical-align: middle;\n",
       "    }\n",
       "\n",
       "    .dataframe tbody tr th {\n",
       "        vertical-align: top;\n",
       "    }\n",
       "\n",
       "    .dataframe thead th {\n",
       "        text-align: right;\n",
       "    }\n",
       "</style>\n",
       "<table border=\"1\" class=\"dataframe\">\n",
       "  <thead>\n",
       "    <tr style=\"text-align: right;\">\n",
       "      <th></th>\n",
       "      <th>Open</th>\n",
       "      <th>High</th>\n",
       "      <th>Low</th>\n",
       "      <th>Close</th>\n",
       "      <th>Volume</th>\n",
       "      <th>Market Cap</th>\n",
       "      <th>Return</th>\n",
       "      <th>Trend</th>\n",
       "      <th>Cum_Return</th>\n",
       "    </tr>\n",
       "    <tr>\n",
       "      <th>Date</th>\n",
       "      <th></th>\n",
       "      <th></th>\n",
       "      <th></th>\n",
       "      <th></th>\n",
       "      <th></th>\n",
       "      <th></th>\n",
       "      <th></th>\n",
       "      <th></th>\n",
       "      <th></th>\n",
       "    </tr>\n",
       "  </thead>\n",
       "  <tbody>\n",
       "    <tr>\n",
       "      <th>2013-04-29</th>\n",
       "      <td>134.44</td>\n",
       "      <td>147.49</td>\n",
       "      <td>134.00</td>\n",
       "      <td>144.54</td>\n",
       "      <td>0</td>\n",
       "      <td>1603768865</td>\n",
       "      <td>0.076969</td>\n",
       "      <td>1</td>\n",
       "      <td>0.076969</td>\n",
       "    </tr>\n",
       "    <tr>\n",
       "      <th>2013-04-30</th>\n",
       "      <td>144.00</td>\n",
       "      <td>146.93</td>\n",
       "      <td>134.05</td>\n",
       "      <td>139.00</td>\n",
       "      <td>0</td>\n",
       "      <td>1542813125</td>\n",
       "      <td>-0.038328</td>\n",
       "      <td>0</td>\n",
       "      <td>0.035690</td>\n",
       "    </tr>\n",
       "    <tr>\n",
       "      <th>2013-05-01</th>\n",
       "      <td>139.00</td>\n",
       "      <td>139.89</td>\n",
       "      <td>107.72</td>\n",
       "      <td>116.99</td>\n",
       "      <td>0</td>\n",
       "      <td>1298954594</td>\n",
       "      <td>-0.158345</td>\n",
       "      <td>0</td>\n",
       "      <td>-0.128306</td>\n",
       "    </tr>\n",
       "    <tr>\n",
       "      <th>2013-05-02</th>\n",
       "      <td>116.38</td>\n",
       "      <td>125.60</td>\n",
       "      <td>92.28</td>\n",
       "      <td>105.21</td>\n",
       "      <td>0</td>\n",
       "      <td>1168517495</td>\n",
       "      <td>-0.100692</td>\n",
       "      <td>0</td>\n",
       "      <td>-0.216079</td>\n",
       "    </tr>\n",
       "    <tr>\n",
       "      <th>2013-05-03</th>\n",
       "      <td>106.25</td>\n",
       "      <td>108.13</td>\n",
       "      <td>79.10</td>\n",
       "      <td>97.75</td>\n",
       "      <td>0</td>\n",
       "      <td>1085995169</td>\n",
       "      <td>-0.070906</td>\n",
       "      <td>0</td>\n",
       "      <td>-0.271664</td>\n",
       "    </tr>\n",
       "    <tr>\n",
       "      <th>2013-05-04</th>\n",
       "      <td>98.10</td>\n",
       "      <td>115.00</td>\n",
       "      <td>92.50</td>\n",
       "      <td>112.50</td>\n",
       "      <td>0</td>\n",
       "      <td>1250316563</td>\n",
       "      <td>0.150895</td>\n",
       "      <td>1</td>\n",
       "      <td>-0.161761</td>\n",
       "    </tr>\n",
       "    <tr>\n",
       "      <th>2013-05-05</th>\n",
       "      <td>112.90</td>\n",
       "      <td>118.80</td>\n",
       "      <td>107.14</td>\n",
       "      <td>115.91</td>\n",
       "      <td>0</td>\n",
       "      <td>1288693176</td>\n",
       "      <td>0.030311</td>\n",
       "      <td>1</td>\n",
       "      <td>-0.136353</td>\n",
       "    </tr>\n",
       "    <tr>\n",
       "      <th>2013-05-06</th>\n",
       "      <td>115.98</td>\n",
       "      <td>124.66</td>\n",
       "      <td>106.64</td>\n",
       "      <td>112.30</td>\n",
       "      <td>0</td>\n",
       "      <td>1249023060</td>\n",
       "      <td>-0.031145</td>\n",
       "      <td>0</td>\n",
       "      <td>-0.163252</td>\n",
       "    </tr>\n",
       "    <tr>\n",
       "      <th>2013-05-07</th>\n",
       "      <td>112.25</td>\n",
       "      <td>113.44</td>\n",
       "      <td>97.70</td>\n",
       "      <td>111.50</td>\n",
       "      <td>0</td>\n",
       "      <td>1240593600</td>\n",
       "      <td>-0.007124</td>\n",
       "      <td>0</td>\n",
       "      <td>-0.169212</td>\n",
       "    </tr>\n",
       "    <tr>\n",
       "      <th>2013-05-08</th>\n",
       "      <td>109.60</td>\n",
       "      <td>115.78</td>\n",
       "      <td>109.60</td>\n",
       "      <td>113.57</td>\n",
       "      <td>0</td>\n",
       "      <td>1264049202</td>\n",
       "      <td>0.018565</td>\n",
       "      <td>1</td>\n",
       "      <td>-0.153789</td>\n",
       "    </tr>\n",
       "  </tbody>\n",
       "</table>\n",
       "</div>"
      ],
      "text/plain": [
       "              Open    High     Low   Close  Volume  Market Cap    Return  \\\n",
       "Date                                                                       \n",
       "2013-04-29  134.44  147.49  134.00  144.54       0  1603768865  0.076969   \n",
       "2013-04-30  144.00  146.93  134.05  139.00       0  1542813125 -0.038328   \n",
       "2013-05-01  139.00  139.89  107.72  116.99       0  1298954594 -0.158345   \n",
       "2013-05-02  116.38  125.60   92.28  105.21       0  1168517495 -0.100692   \n",
       "2013-05-03  106.25  108.13   79.10   97.75       0  1085995169 -0.070906   \n",
       "2013-05-04   98.10  115.00   92.50  112.50       0  1250316563  0.150895   \n",
       "2013-05-05  112.90  118.80  107.14  115.91       0  1288693176  0.030311   \n",
       "2013-05-06  115.98  124.66  106.64  112.30       0  1249023060 -0.031145   \n",
       "2013-05-07  112.25  113.44   97.70  111.50       0  1240593600 -0.007124   \n",
       "2013-05-08  109.60  115.78  109.60  113.57       0  1264049202  0.018565   \n",
       "\n",
       "            Trend  Cum_Return  \n",
       "Date                           \n",
       "2013-04-29      1    0.076969  \n",
       "2013-04-30      0    0.035690  \n",
       "2013-05-01      0   -0.128306  \n",
       "2013-05-02      0   -0.216079  \n",
       "2013-05-03      0   -0.271664  \n",
       "2013-05-04      1   -0.161761  \n",
       "2013-05-05      1   -0.136353  \n",
       "2013-05-06      0   -0.163252  \n",
       "2013-05-07      0   -0.169212  \n",
       "2013-05-08      1   -0.153789  "
      ]
     },
     "execution_count": 7,
     "metadata": {},
     "output_type": "execute_result"
    }
   ],
   "source": [
    "btc.head(10)"
   ]
  },
  {
   "cell_type": "code",
   "execution_count": 8,
   "id": "773c1d88",
   "metadata": {},
   "outputs": [],
   "source": [
    "feature_descriptions={\n",
    "        'Open': 'Opening Price',\n",
    "        'Close': 'Closing Price',\n",
    "        'Low': 'Lowest Price',\n",
    "        'High': 'Highest Price',\n",
    "        'Volume': 'A measure of how much of a cryptocurrency was traded in the last 24 hours',\n",
    "        'Market Cap': \"The total market value of a cryptocurrency's circulating supply\",\n",
    "        'Return' : 'Return on the Single Day',\n",
    "        'Cum_Return':'Cummulative Return',\n",
    "        'Trend': 'Up or Down'}"
   ]
  },
  {
   "cell_type": "code",
   "execution_count": 9,
   "id": "5f97b108",
   "metadata": {},
   "outputs": [
    {
     "data": {
      "text/plain": [
       "3031"
      ]
     },
     "execution_count": 9,
     "metadata": {},
     "output_type": "execute_result"
    }
   ],
   "source": [
    "len(btc)"
   ]
  },
  {
   "cell_type": "code",
   "execution_count": 10,
   "id": "71009eff",
   "metadata": {},
   "outputs": [
    {
     "data": {
      "text/plain": [
       "1    1637\n",
       "0    1394\n",
       "Name: Trend, dtype: int64"
      ]
     },
     "execution_count": 10,
     "metadata": {},
     "output_type": "execute_result"
    }
   ],
   "source": [
    "btc['Trend'].value_counts()"
   ]
  },
  {
   "cell_type": "code",
   "execution_count": 11,
   "id": "06eb4d87",
   "metadata": {},
   "outputs": [],
   "source": [
    "X = btc.drop(columns=['Trend','Return'], axis=1)\n",
    "y = btc['Trend']"
   ]
  },
  {
   "cell_type": "code",
   "execution_count": 12,
   "id": "21a0a134",
   "metadata": {},
   "outputs": [
    {
     "data": {
      "text/plain": [
       "3001"
      ]
     },
     "execution_count": 12,
     "metadata": {},
     "output_type": "execute_result"
    }
   ],
   "source": [
    "len(X)-30"
   ]
  },
  {
   "cell_type": "code",
   "execution_count": 13,
   "id": "a19801a6",
   "metadata": {},
   "outputs": [],
   "source": [
    "X_train = X.iloc[0:len(X)-30, :]\n",
    "X_test= X.iloc[len(X)-30: , :]\n",
    "y_train = y.iloc[0:len(X)-30]\n",
    "y_test = y.iloc[len(X)-30:]"
   ]
  },
  {
   "cell_type": "code",
   "execution_count": 14,
   "id": "b297d8ba",
   "metadata": {},
   "outputs": [
    {
     "data": {
      "text/plain": [
       "1    1618\n",
       "0    1383\n",
       "Name: Trend, dtype: int64"
      ]
     },
     "execution_count": 14,
     "metadata": {},
     "output_type": "execute_result"
    }
   ],
   "source": [
    "y_train.value_counts()"
   ]
  },
  {
   "cell_type": "code",
   "execution_count": 15,
   "id": "07aed7a5",
   "metadata": {},
   "outputs": [],
   "source": [
    "from imblearn.over_sampling import SMOTE\n",
    "oversample = SMOTE()\n",
    "X_train,y_train = oversample.fit_resample(X_train,y_train)"
   ]
  },
  {
   "cell_type": "code",
   "execution_count": 16,
   "id": "61187fdd",
   "metadata": {},
   "outputs": [
    {
     "data": {
      "text/plain": [
       "1    1618\n",
       "0    1618\n",
       "Name: Trend, dtype: int64"
      ]
     },
     "execution_count": 16,
     "metadata": {},
     "output_type": "execute_result"
    }
   ],
   "source": [
    "y_train.value_counts()"
   ]
  },
  {
   "cell_type": "code",
   "execution_count": 17,
   "id": "9cb50195",
   "metadata": {},
   "outputs": [],
   "source": [
    "from sklearn.ensemble import RandomForestClassifier\n",
    "from sklearn.metrics import classification_report, confusion_matrix, accuracy_score, roc_curve\n",
    "from sklearn.metrics import mean_absolute_error, mean_squared_error, r2_score"
   ]
  },
  {
   "cell_type": "code",
   "execution_count": 18,
   "id": "cb4958d8",
   "metadata": {},
   "outputs": [
    {
     "name": "stdout",
     "output_type": "stream",
     "text": [
      "0.7\n",
      "\n",
      "\n",
      "[[10  1]\n",
      " [ 8 11]]\n",
      "\n",
      "\n",
      "              precision    recall  f1-score   support\n",
      "\n",
      "           0       0.56      0.91      0.69        11\n",
      "           1       0.92      0.58      0.71        19\n",
      "\n",
      "    accuracy                           0.70        30\n",
      "   macro avg       0.74      0.74      0.70        30\n",
      "weighted avg       0.78      0.70      0.70        30\n",
      "\n"
     ]
    }
   ],
   "source": [
    "rfc = RandomForestClassifier()\n",
    "rfc.fit(X_train,y_train)\n",
    "rfc_pred = rfc.predict(X_test)\n",
    " \n",
    "print(accuracy_score(y_test, rfc_pred))\n",
    "print('\\n')\n",
    "print(confusion_matrix(y_test,rfc_pred))\n",
    "print('\\n')\n",
    "print(classification_report(y_test,rfc_pred))"
   ]
  },
  {
   "cell_type": "code",
   "execution_count": 19,
   "id": "5a527345",
   "metadata": {},
   "outputs": [
    {
     "data": {
      "text/plain": [
       "Text(0.5, 12.5, 'Predicted label')"
      ]
     },
     "execution_count": 19,
     "metadata": {},
     "output_type": "execute_result"
    },
    {
     "data": {
      "image/png": "[encoded data removed]",
      "text/plain": [
       "<Figure size 432x288 with 2 Axes>"
      ]
     },
     "metadata": {},
     "output_type": "display_data"
    }
   ],
   "source": [
    "cm = confusion_matrix(y_test,rfc_pred)\n",
    "sns.heatmap(cm, annot=True,fmt='g' ,linewidths=.5, square = True, cmap = 'viridis')\n",
    "plt.ylabel('True label')\n",
    "plt.xlabel('Predicted label')"
   ]
  },
  {
   "cell_type": "code",
   "execution_count": 20,
   "id": "f77a5e3a",
   "metadata": {},
   "outputs": [],
   "source": [
    "Xr = btc.drop(columns=['Trend','Close','Cum_Return'], axis=1)\n",
    "yr = btc['Close']"
   ]
  },
  {
   "cell_type": "code",
   "execution_count": 21,
   "id": "65b0784c",
   "metadata": {},
   "outputs": [],
   "source": [
    "Xr_train = Xr.iloc[0:len(X)-30, :]\n",
    "Xr_test= Xr.iloc[len(X)-30: , :]\n",
    "yr_train = yr.iloc[0:len(X)-30]\n",
    "yr_test = yr.iloc[len(X)-30:]"
   ]
  },
  {
   "cell_type": "code",
   "execution_count": 22,
   "id": "2d99749c",
   "metadata": {},
   "outputs": [
    {
     "name": "stdout",
     "output_type": "stream",
     "text": [
      "MAE:  335.7827466666666\n",
      "\n",
      "\n",
      "MSE:  252387.043898121\n",
      "\n",
      "\n",
      "RMSE:  502.38137296094186\n",
      "\n",
      "\n",
      "R2: 0.9914259304722106\n"
     ]
    }
   ],
   "source": [
    "from sklearn.ensemble import RandomForestRegressor\n",
    "rfr = RandomForestRegressor()\n",
    "rfr.fit(Xr_train,yr_train)\n",
    "rfr_pred = rfr.predict(Xr_test)\n",
    "\n",
    "print('MAE: ',mean_absolute_error(yr_test, rfr_pred))\n",
    "print('\\n')\n",
    "print('MSE: ',mean_squared_error(yr_test, rfr_pred))\n",
    "print('\\n')\n",
    "print('RMSE: ',np.sqrt(mean_squared_error(yr_test, rfr_pred)))\n",
    "print('\\n')\n",
    "print('R2:', r2_score(yr_test, rfr_pred))"
   ]
  },
  {
   "cell_type": "code",
   "execution_count": 23,
   "id": "af1ed00f",
   "metadata": {},
   "outputs": [],
   "source": [
    "test = pd.DataFrame()\n",
    "test['True'] = yr_test\n",
    "test['RFR'] = rfr_pred"
   ]
  },
  {
   "cell_type": "code",
   "execution_count": 24,
   "id": "b89fbef3",
   "metadata": {},
   "outputs": [
    {
     "data": {
      "image/png": "[encoded data removed]",
      "text/plain": [
       "<Figure size 864x432 with 1 Axes>"
      ]
     },
     "metadata": {},
     "output_type": "display_data"
    }
   ],
   "source": [
    "plt.figure(figsize=(12,6))\n",
    "plt.plot('True', data=test, marker='o', ms=4 )\n",
    "plt.plot('RFR', data=test, marker='o', ms=4)\n",
    "plt.title('BTC')\n",
    "plt.legend()\n",
    "plt.tight_layout()"
   ]
  },
  {
   "cell_type": "code",
   "execution_count": 25,
   "id": "9d30f43c",
   "metadata": {},
   "outputs": [],
   "source": [
    "#import shap\n",
    "\n",
    "#shap.initjs()\n",
    "#shap_values = shap.TreeExplainer(rfr).shap_values(Xr_train)\n",
    "#shap.summary_plot(shap_values, Xr_train, plot_type=\"bar\")"
   ]
  },
  {
   "cell_type": "code",
   "execution_count": 26,
   "id": "9c20fc08",
   "metadata": {},
   "outputs": [],
   "source": [
    "#import shap\n",
    "\n",
    "#shap.initjs()\n",
    "#explainer = shap.TreeExplainer(rfr)\n",
    "#shap_values_all = explainer.shap_values(Xr_test)\n",
    "#shap.force_plot(explainer.expected_value, shap_values_all, Xr_test)"
   ]
  },
  {
   "cell_type": "code",
   "execution_count": 27,
   "id": "77cbe6c1",
   "metadata": {},
   "outputs": [],
   "source": [
    "from IPython.core.interactiveshell import InteractiveShell\n",
    "InteractiveShell.ast_node_interactivity = \"all\""
   ]
  },
  {
   "cell_type": "code",
   "execution_count": 28,
   "id": "d3883eec",
   "metadata": {},
   "outputs": [],
   "source": [
    "from explainerdashboard import ClassifierExplainer, RegressionExplainer, ExplainerDashboard, ExplainerHub"
   ]
  },
  {
   "cell_type": "code",
   "execution_count": 29,
   "id": "77de5691",
   "metadata": {},
   "outputs": [],
   "source": [
    "#from dash_bootstrap_components.themes import CYBORG"
   ]
  },
  {
   "cell_type": "code",
   "execution_count": 30,
   "id": "c9802718",
   "metadata": {},
   "outputs": [
    {
     "name": "stdout",
     "output_type": "stream",
     "text": [
      "Changing class type to RandomForestRegressionExplainer...\n",
      "Generating self.shap_explainer = shap.TreeExplainer(model, X_background)\n"
     ]
    }
   ],
   "source": [
    "explainer_r = RegressionExplainer(rfr, Xr_test, yr_test, X_background=Xr_train ,descriptions=feature_descriptions , \n",
    "                                  target='Close',units='$')\n",
    "\n",
    "#ExplainerDashboard(explainer_r).run()"
   ]
  },
  {
   "cell_type": "code",
   "execution_count": 31,
   "id": "78a71559",
   "metadata": {},
   "outputs": [
    {
     "name": "stdout",
     "output_type": "stream",
     "text": [
      "Detected RandomForestClassifier model: Changing class type to RandomForestClassifierExplainer...\n",
      "Note: model_output=='probability', so assuming that raw shap output of RandomForestClassifier is in probability space...\n",
      "Generating self.shap_explainer = shap.TreeExplainer(model, X_background)\n"
     ]
    }
   ],
   "source": [
    "explainer_c = ClassifierExplainer(rfc, X_test, y_test, X_background=X_train,descriptions=feature_descriptions , \n",
    "                                  target='Trend', labels=['Down','Up'])\n"
   ]
  },
  {
   "cell_type": "code",
   "execution_count": 32,
   "id": "781d342a",
   "metadata": {},
   "outputs": [],
   "source": [
    "#explainer_r.dump(\"explainer_r.joblib\")"
   ]
  },
  {
   "cell_type": "code",
   "execution_count": 33,
   "id": "2309c8a3",
   "metadata": {},
   "outputs": [],
   "source": [
    "#explainerdashboard run explainer.joblib"
   ]
  },
  {
   "cell_type": "code",
   "execution_count": 34,
   "id": "d01ff2cc",
   "metadata": {},
   "outputs": [],
   "source": [
    "#explainer_c = ClassifierExplainer(rfc, X_test, y_test)\n",
    "#ExplainerDashboard(explainer_c).run()"
   ]
  },
  {
   "cell_type": "code",
   "execution_count": 43,
   "id": "7bdd1b87",
   "metadata": {},
   "outputs": [
    {
     "name": "stdout",
     "output_type": "stream",
     "text": [
      "Building ExplainerDashboard..\n",
      "Detected notebook environment, consider setting mode='external', mode='inline' or mode='jupyterlab' to keep the notebook interactive while the dashboard is running...\n",
      "Warning: calculating shap interaction values can be slow! Pass shap_interaction=False to remove interactions tab.\n",
      "Generating layout...\n",
      "Calculating dependencies...\n",
      "Reminder: you can store the explainer (including calculated dependencies) with explainer.dump('explainer.joblib') and reload with e.g. ClassifierExplainer.from_file('explainer.joblib')\n",
      "Registering callbacks...\n",
      "Building ExplainerDashboard..\n",
      "Detected notebook environment, consider setting mode='external', mode='inline' or mode='jupyterlab' to keep the notebook interactive while the dashboard is running...\n",
      "Warning: calculating shap interaction values can be slow! Pass shap_interaction=False to remove interactions tab.\n",
      "Generating layout...\n",
      "Calculating dependencies...\n",
      "Reminder: you can store the explainer (including calculated dependencies) with explainer.dump('explainer.joblib') and reload with e.g. ClassifierExplainer.from_file('explainer.joblib')\n",
      "Registering callbacks...\n"
     ]
    },
    {
     "name": "stderr",
     "output_type": "stream",
     "text": [
      "Using random SECRET_KEY: 4d9fad86-466c-4647-90b5-b8204bed5469, please set it on your app.config[\"SECRET_KEY\"]\n"
     ]
    },
    {
     "name": "stdout",
     "output_type": "stream",
     "text": [
      "Reminder, you can set ExplainerDashboard .name and .description in order to control the url path of the dashboard. Now defaulting to name=dashboard1 and default description...\n",
      "Building ExplainerDashboard..\n",
      "Detected notebook environment, consider setting mode='external', mode='inline' or mode='jupyterlab' to keep the notebook interactive while the dashboard is running...\n",
      "Warning: calculating shap interaction values can be slow! Pass shap_interaction=False to remove interactions tab.\n",
      "Generating layout...\n",
      "Calculating dependencies...\n",
      "Reminder: you can store the explainer (including calculated dependencies) with explainer.dump('explainer.joblib') and reload with e.g. ClassifierExplainer.from_file('explainer.joblib')\n",
      "Registering callbacks...\n",
      "Reminder, you can set ExplainerDashboard .name and .description in order to control the url path of the dashboard. Now defaulting to name=dashboard2 and default description...\n",
      "Building ExplainerDashboard..\n",
      "Detected notebook environment, consider setting mode='external', mode='inline' or mode='jupyterlab' to keep the notebook interactive while the dashboard is running...\n",
      "Warning: calculating shap interaction values can be slow! Pass shap_interaction=False to remove interactions tab.\n",
      "Generating layout...\n",
      "Calculating dependencies...\n",
      "Reminder: you can store the explainer (including calculated dependencies) with explainer.dump('explainer.joblib') and reload with e.g. ClassifierExplainer.from_file('explainer.joblib')\n",
      "Registering callbacks...\n",
      "Dumping configuration .yaml to C:\\Users\\kites\\Desktop\\New folder\\BTC\\dashboard.yaml...\n",
      "Dumping explainer to C:\\Users\\kites\\Desktop\\New folder\\BTC\\explainer.joblib...\n"
     ]
    }
   ],
   "source": [
    "db1 = ExplainerDashboard(explainer_c, title='Classifier Explainer')\n",
    "db2 = ExplainerDashboard(explainer_r, title='Regression Explainer')\n",
    "hub = ExplainerHub([db1, db2])\n",
    "db1.to_yaml(\"dashboard.yaml\", explainerfile=\"explainer.joblib\", dump_explainer=True)\n",
    "#hub.to_yaml(\"dashboard.yaml\", dump_explainers=True)"
   ]
  },
  {
   "cell_type": "code",
   "execution_count": null,
   "id": "6d55a4dd",
   "metadata": {},
   "outputs": [],
   "source": []
  }
 ],
 "metadata": {
  "kernelspec": {
   "display_name": "Python 3 (ipykernel)",
   "language": "python",
   "name": "python3"
  },
  "language_info": {
   "codemirror_mode": {
    "name": "ipython",
    "version": 3
   },
   "file_extension": ".py",
   "mimetype": "text/x-python",
   "name": "python",
   "nbconvert_exporter": "python",
   "pygments_lexer": "ipython3",
   "version": "3.7.11"
  }
 },
 "nbformat": 4,
 "nbformat_minor": 5
}
